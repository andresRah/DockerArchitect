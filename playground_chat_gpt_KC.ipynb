{
  "nbformat": 4,
  "nbformat_minor": 0,
  "metadata": {
    "colab": {
      "provenance": [],
      "include_colab_link": true
    },
    "kernelspec": {
      "name": "python3",
      "display_name": "Python 3"
    },
    "language_info": {
      "name": "python"
    }
  },
  "cells": [
    {
      "cell_type": "markdown",
      "metadata": {
        "id": "view-in-github",
        "colab_type": "text"
      },
      "source": [
        "<a href=\"https://colab.research.google.com/github/andresRah/DockerArchitect/blob/master/playground_chat_gpt_KC.ipynb\" target=\"_parent\"><img src=\"https://colab.research.google.com/assets/colab-badge.svg\" alt=\"Open In Colab\"/></a>"
      ]
    },
    {
      "cell_type": "markdown",
      "source": [
        "Archivo > Guardar una copia en Drive"
      ],
      "metadata": {
        "id": "uRANnnd_2AmF"
      }
    },
    {
      "cell_type": "code",
      "execution_count": null,
      "metadata": {
        "colab": {
          "base_uri": "https://localhost:8080/"
        },
        "id": "sTQUBkza1Q95",
        "outputId": "003a5385-b7be-4f4a-a60c-765c44d1634e"
      },
      "outputs": [
        {
          "output_type": "stream",
          "name": "stdout",
          "text": [
            "Requirement already satisfied: openai in /usr/local/lib/python3.10/dist-packages (1.6.0)\n",
            "Requirement already satisfied: anyio<5,>=3.5.0 in /usr/local/lib/python3.10/dist-packages (from openai) (3.7.1)\n",
            "Requirement already satisfied: distro<2,>=1.7.0 in /usr/lib/python3/dist-packages (from openai) (1.7.0)\n",
            "Requirement already satisfied: httpx<1,>=0.23.0 in /usr/local/lib/python3.10/dist-packages (from openai) (0.26.0)\n",
            "Requirement already satisfied: pydantic<3,>=1.9.0 in /usr/local/lib/python3.10/dist-packages (from openai) (1.10.13)\n",
            "Requirement already satisfied: sniffio in /usr/local/lib/python3.10/dist-packages (from openai) (1.3.0)\n",
            "Requirement already satisfied: tqdm>4 in /usr/local/lib/python3.10/dist-packages (from openai) (4.66.1)\n",
            "Requirement already satisfied: typing-extensions<5,>=4.7 in /usr/local/lib/python3.10/dist-packages (from openai) (4.9.0)\n",
            "Requirement already satisfied: idna>=2.8 in /usr/local/lib/python3.10/dist-packages (from anyio<5,>=3.5.0->openai) (3.6)\n",
            "Requirement already satisfied: exceptiongroup in /usr/local/lib/python3.10/dist-packages (from anyio<5,>=3.5.0->openai) (1.2.0)\n",
            "Requirement already satisfied: certifi in /usr/local/lib/python3.10/dist-packages (from httpx<1,>=0.23.0->openai) (2023.11.17)\n",
            "Requirement already satisfied: httpcore==1.* in /usr/local/lib/python3.10/dist-packages (from httpx<1,>=0.23.0->openai) (1.0.2)\n",
            "Requirement already satisfied: h11<0.15,>=0.13 in /usr/local/lib/python3.10/dist-packages (from httpcore==1.*->httpx<1,>=0.23.0->openai) (0.14.0)\n"
          ]
        }
      ],
      "source": [
        "!pip install openai\n",
        "\n",
        "# Si da algun error, vuelve a ejecutar esta celda"
      ]
    },
    {
      "cell_type": "code",
      "source": [
        "import openai\n",
        "import os\n",
        "import json\n",
        "import markdown"
      ],
      "metadata": {
        "id": "wEnUfSr52C_L"
      },
      "execution_count": null,
      "outputs": []
    },
    {
      "cell_type": "code",
      "source": [
        "# Configura tu clave de API de OpenAI\n",
        "# Entra en: https://platform.openai.com/api-keys\n",
        "# Copia la api key y pégala aquí\n",
        "\n",
        "openai.api_key = \"TU_API_KEY\""
      ],
      "metadata": {
        "id": "s9WKS4632DxL"
      },
      "execution_count": null,
      "outputs": []
    },
    {
      "cell_type": "code",
      "source": [
        "# Llamada a la API de OpenAI\n",
        "response = openai.chat.completions.create(\n",
        "    model=\"gpt-3.5-turbo\", # No cambies esta línea\n",
        "    max_tokens=1024,  # Puedes ajustar los parámetros según tus preferencias y la salida que quieras obtener\n",
        "    temperature=0,\n",
        "    top_p=1,\n",
        "    messages=[\n",
        "        {\"role\": \"system\", \"content\": \"You are a helpful assistant.\"}, # Tu prompt de sistema \"Your are a helpful assistant\"\n",
        "        {\"role\": \"user\", \"content\": \"Where can I buy colombian coffee?\"}, # Tu prompt de usuario \"Where can I buy colombian coffee?\"\"\n",
        "        {\"role\": \"assistant\", \"content\": \"Colombian coffee is widely available, and you can purchase it from various sources, both online and offline. Here are some options: Local Grocery Stores: Many grocery stores carry Colombian coffee in their coffee aisle. Look for popular Colombian coffee brands or specific coffee varieties labeled as Colombian. Specialty Coffee Shops: Visit local specialty coffee shops or cafes that focus on offering high-quality coffee. They may have a selection of Colombian coffee beans for sale. (...)\"},\n",
        "        # Si queremos darle algún ejemplo de respuesta generada\n",
        "        {\"role\": \"user\", \"content\": \"On the other hand, which is the most popular dance in Spain?\"} # Otro prompt de sistema\n",
        "    ]\n",
        ")\n",
        "\n",
        "output_text = response\n",
        "\n",
        "completion_message = output_text.choices[0].message.content\n",
        "print(completion_message)"
      ],
      "metadata": {
        "colab": {
          "base_uri": "https://localhost:8080/"
        },
        "id": "CFqWq9zX2HSi",
        "outputId": "61997a99-38cb-4881-999b-67823a1d4dd7"
      },
      "execution_count": null,
      "outputs": [
        {
          "output_type": "stream",
          "name": "stdout",
          "text": [
            "Flamenco is the most popular and well-known dance in Spain. It originated in the Andalusian region and is characterized by its passionate and expressive movements, intricate footwork, and rhythmic hand clapping. Flamenco is not only a dance but also a form of music and cultural expression that holds deep historical and emotional significance in Spanish culture. It is often performed in traditional flamenco venues called \"tablaos\" or during festivals and celebrations throughout Spain.\n"
          ]
        }
      ]
    }
  ]
}